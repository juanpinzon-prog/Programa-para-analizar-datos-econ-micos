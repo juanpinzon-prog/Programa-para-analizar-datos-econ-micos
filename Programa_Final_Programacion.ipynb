{
  "cells": [
    {
      "cell_type": "code",
      "execution_count": null,
      "metadata": {
        "id": "dB4IPpFdKvSf"
      },
      "outputs": [],
      "source": [
        "import requests #Importa la libreria request\n",
        "import matplotlib.pyplot as plt #Importa la libreria matplotlib.pyplot y la renombra como plt\n",
        "import numpy as np #Importa la libreria numpy y la renombra como np"
      ]
    },
    {
      "cell_type": "code",
      "execution_count": null,
      "metadata": {
        "id": "dVIj_zzJMszi"
      },
      "outputs": [],
      "source": [
        "class Pais: # Define una clase llamada Pais\n",
        "    def __init__(self): # Define un constructor para la clase Pais\n",
        "      # Define tres atributos de la clase Pais: nombre, codigo y capital\n",
        "      self.nombre = \"\"\n",
        "      self.codigo = \"\"\n",
        "      self.capital = \"\"\n",
        "\n",
        "    def cargarDatos(self, respuesta): #Se define el método cargar datos\n",
        "      self.nombre = respuesta[1][0]['name'] #Guarda el valor de la respuesta de la API, en la parte de datos[1], tomando el primer elemento\n",
        "      self.codigo = respuesta[1][0]['id'] #Extrae el código (Ej. \"USA\")\n",
        "      self.capital = respuesta[1][0]['capitalCity'] #Extrae la capital\n",
        "\n",
        "class Indicador: #Define la clase Indicador\n",
        "    def __init__(self, nombre, codigo, descripcion): #Define un constructor para la clase Pais\n",
        "      # Define tres atributos de la clase Indicador: nombre, codigo y descripcion\n",
        "        self.nombre = nombre\n",
        "        self.codigo = codigo\n",
        "        self.descripcion = descripcion\n",
        "\n",
        "\n",
        "class Indicadores: #Define la clase Indicadores\n",
        "    #Define un constructor para la clase Indicadores\n",
        "    def __init__(self):\n",
        "      self.indicadores = [] #Lista vacia a la que despues se le iran agregando cosas\n",
        "\n",
        "    def cargarDatos(self, respuesta): # Se define un método llamado Cargar datos\n",
        "      for i in range(len(respuesta[1])): # Recorre uno por uno todos los elementos que hay dentro de respesuta[1]\n",
        "        indicado = Indicador(respuesta[1][i]['name'], respuesta[1][i]['id'],respuesta[1][i]['sourceNote']) # Toma el registro número i y crea un objeto Indicador usando tres campos\n",
        "        self.indicadores.append(indicado) # Guarda el objeto indicador dentro de la lista self.indicadores\n",
        "\n",
        "\n",
        "class API: # Crea la clase API\n",
        "    def __init__(self, link): # Se define el constructor\n",
        "      self.link = link # Se guarda el valor link dentro de otro objeto que se llama igual\n",
        "\n",
        "    def obtenerPeticion(self):  # Se define un método llamado obtener petición\n",
        "        respuesta = requests.get(self.link) # Se hace una petición para obtener los datos a la URL anteriormente guardada\n",
        "        data = respuesta.json() # Convierte el contenido de la respuesta a formato JSON, con el fin de que Python los entienda mejor\n",
        "        return data # Devuelve los datos"
      ]
    },
    {
      "cell_type": "code",
      "execution_count": null,
      "metadata": {
        "id": "EkSd0xrAMzHp"
      },
      "outputs": [],
      "source": [
        "def menu(): # Define una función llamada menu\n",
        "  paises = [(\"Colombia\",\"COL\"),(\"Estados Unidos\",\"USA\"), (\"Argentina\", \"ARG\"),(\"Brazil\", \"BRA\"), (\"Chile\",\"CHL\"), (\"Uruguay\", \"URY\")] # Crea una lista con dos tuplas, cada una tiene nombre del pais y codigo00\n",
        "  print(\"¡Bienvenido al sistema de visualizacion economica!\") # Muestra el mensaje\n",
        "  print(\"Elija un pais de entre las opciones: \") # Muestra el mensaje\n",
        "  i = 1 # Empieza desde 1\n",
        "  for nombre,codigo in paises: # Se recorre una lista llamada paises en donde cada elemento es un par\n",
        "      print(f\"{i}. {nombre}\") # Imprime una linea con el numero actual y el nombre del pais\n",
        "      i += 1 # Sumar 1 al contador\n",
        "\n",
        "  print(\"\") # Imprime un espacio\n",
        "  opcion = int(input()) # Convierte lo que escribe el usuario a un numero entero\n",
        "  i = 1 # Empieza desde 1\n",
        "  for nombre,codigo in paises: # Se recorre una lista llamada paises en donde cada elemento es un par\n",
        "    if i == opcion: # Compara el numero del contador con la que opcion que eligio el usuario\n",
        "      return codigo # Devuelve el codigo\n",
        "    i += 1 # Si no coincide aumenta el contador en 1 y continua al siguiente pais"
      ]
    },
    {
      "cell_type": "code",
      "execution_count": null,
      "metadata": {
        "id": "mNTUvTJsM2_K"
      },
      "outputs": [],
      "source": [
        "def indicadores(indicadores): # Define una función llamada indicadores\n",
        "  print(\"Elija la cantidad de indicadores que quiera mostrar ej. 10   MAX = 300\") # Muestra un mensaje\n",
        "  cantidad = int(input()) # Convierte lo que escribe el usuario a un número entero\n",
        "  if cantidad > len(indicadores): # En caso de que el número sea mayor al máximo el programa tomará el valor más grande\n",
        "    cantidad = len(indicadores)\n",
        "  for i in range(cantidad): # Crea la secuencia\n",
        "    print(f\"{i+1}. {indicadores[i].nombre}\") # Imprime un texto numerado que parte del 1 y toma el objeto i de la lista indicadores y lee sunombre\n",
        "\n",
        "  print(\"Elija el numero de la estadistica que quiere graficar: \") # Muestra un mensaje\n",
        "  opcion = int(input()) # Convierte lo que se escribe a número entero\n",
        "  for i in range(cantidad): # Recorres las posiciones\n",
        "    if i == opcion-1: # Compara la posición con el número que se eligió menos 1\n",
        "      return indicadores[i] # Si coincide, devuelve el elemento de la lista indicadores en esa posición"
      ]
    },
    {
      "cell_type": "code",
      "execution_count": null,
      "metadata": {
        "colab": {
          "background_save": true,
          "base_uri": "https://localhost:8080/"
        },
        "id": "GK4BszDDM7PC",
        "outputId": "cf1a1184-3589-4687-c0e7-3cbbef528204"
      },
      "outputs": [
        {
          "name": "stdout",
          "output_type": "stream",
          "text": [
            "¡Bienvenido al sistema de visualizacion economica!\n",
            "Elija un pais de entre las opciones: \n",
            "1. Colombia\n",
            "2. Estados Unidos\n",
            "3. Argentina\n",
            "4. Brazil\n",
            "5. Chile\n",
            "6. Uruguay\n",
            "\n"
          ]
        }
      ],
      "source": [
        "cod = menu() # le pide al usuario que es escoja un pais, devuelve la cadena con el codigo de pais de BM\n",
        "link = f\"https://api.worldbank.org/v2/country/{cod}?format=json\" # Construye la URL para consultar la informacion del pais que se escogio antes\n",
        "apiPais = API(link) #Crea un objeto API guardando la URL (link) anterior\n",
        "pais = Pais() # instancia un contenedor vacio para los campos de pais (Nombre, Codigo,Capital)\n",
        "pais.cargarDatos(apiPais.obtenerPeticion()) # Hace GET a link, convierte a JSON y devuelve la estructura\n",
        "listaIndicadores = Indicadores() #Crea un contenedor para almacenar muchos indicadores\n",
        "apiIndicadores = API(\"https://api.worldbank.org/v2/topic/3/indicator?format=json&per_page=300\") #Prepara una llamada al catalogo de inicadores del Topico 3\n",
        "listaIndicadores.cargarDatos(apiIndicadores.obtenerPeticion()) #Obtiene el JSON con indicadores, recorre respuesta 1 y para cada fila crea un indicador y lo agrega a self.indicators\n",
        "indicadorFinal = indicadores(listaIndicadores.indicadores) #LLama la funcion de menu de indicadores, imprime los nombres y luego pide el numero de la estadistica a graficar, devuelve el objeto indicador elegido\n",
        "apiDatos = API(f\"https://api.worldbank.org/v2/country/{cod}/indicator/{indicadorFinal.codigo}?format=json\") #Prepara la URL para pedir la serie temporal del indicador elegido para el pais elegido\n",
        "datos = apiDatos.obtenerPeticion() #Realiza el GET a esa URL y retorna el JSON con la serie\n",
        "años = () #Crea tuplas vacias para años\n",
        "valores = () #crea tuplas vacias para valores\n",
        "if datos[1] == None:\n",
        "  print(\"No hay datos disponibles\")\n",
        "else:\n",
        "  print(datos[1])\n",
        "  for i in range(len(datos[1])):\n",
        "    años += (datos[1][i]['date'],)\n",
        "    valores += (datos[1][i]['value'],)\n",
        "  print(años)\n",
        "  print(valores)\n",
        "#Recorre cada observacion en datos 1, extrae el año, el valor y los añade a sus tuplas correspodientes y imprime las tuplas antes de transformarlas. Tienen un orden descendente\n",
        "  años = list(años)\n",
        "  años.reverse()\n",
        "  valores = list(valores)\n",
        "  valores.reverse()\n",
        "#Convierte las tuplas a listas, invierte su orden para tenerlo de menor a mayor\n",
        "  plt.style.use('seaborn-v0_8') #Estilo Visual\n",
        "  fig, ax = plt.subplots(figsize=(36, 12)) #crea figura y ejes. Define el tamaño del grafico\n",
        "  ax.plot(años, valores, linewidth = 1, color = 'black', marker='o', markersize=10, markerfacecolor='red', markeredgecolor='black') #Define el color de la linea, la anchura, el marker para cada año y su color\n",
        "  ax.set_title(f'Grafica de {indicadorFinal.nombre}', fontsize = 30) #Escribe el titulo del grafico\n",
        "  ax.set_xlabel('Años', fontsize = 20) #Etiqueta eje x\n",
        "  ax.set_ylabel(indicadorFinal.nombre, fontsize = 20) #Etiqueta eje y\n",
        "  ax.tick_params(axis = 'both', labelsize = 14) #Tamaño de los ticks\n",
        "  ax.axis()\n",
        "  plt.show()"
      ]
    },
    {
      "cell_type": "code",
      "execution_count": null,
      "metadata": {
        "id": "3pDdiQF3GAaH"
      },
      "outputs": [],
      "source": []
    }
  ],
  "metadata": {
    "colab": {
      "provenance": []
    },
    "kernelspec": {
      "display_name": "Python 3",
      "name": "python3"
    },
    "language_info": {
      "name": "python"
    }
  },
  "nbformat": 4,
  "nbformat_minor": 0
}